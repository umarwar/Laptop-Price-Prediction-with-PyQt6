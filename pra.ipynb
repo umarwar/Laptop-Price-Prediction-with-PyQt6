{
 "cells": [
  {
   "cell_type": "code",
   "execution_count": 1,
   "metadata": {},
   "outputs": [],
   "source": [
    "import pandas as pd\n",
    "import seaborn as sns\n",
    "import matplotlib.pyplot as plt"
   ]
  },
  {
   "cell_type": "code",
   "execution_count": 2,
   "metadata": {},
   "outputs": [
    {
     "name": "stderr",
     "output_type": "stream",
     "text": [
      "C:\\Users\\sb\\AppData\\Local\\Temp\\ipykernel_9300\\2109303175.py:45: FutureWarning: The default value of numeric_only in DataFrame.corr is deprecated. In a future version, it will default to False. Select only valid columns or specify the value of numeric_only to silence this warning.\n",
      "  target_correlations = df.corr()['Price_euros'].apply(abs).sort_values()\n",
      "c:\\Users\\sb\\AppData\\Local\\Programs\\Python\\Python310\\lib\\site-packages\\sklearn\\base.py:450: UserWarning: X does not have valid feature names, but StandardScaler was fitted with feature names\n",
      "  warnings.warn(\n"
     ]
    }
   ],
   "source": [
    "df = pd.read_csv('laptop_price.csv', encoding=\"latin-1\")\n",
    "df = df.drop('Product', axis=1)\n",
    "df = df.join(pd.get_dummies(df.Company))\n",
    "df = df.drop('Company', axis=1)\n",
    "df = df.join(pd.get_dummies(df.TypeName))\n",
    "df = df.drop('TypeName', axis=1)\n",
    "df['ScreenResolution'] = df.ScreenResolution.str.split(' ').apply(lambda x: x[-1])\n",
    "df['Screen Width'] = df.ScreenResolution.str.split('x').apply(lambda x: x[0]) \n",
    "df['Screen Height'] = df.ScreenResolution.str.split('x').apply(lambda x: x[1]) \n",
    "df = df.drop('ScreenResolution', axis=1)\n",
    "df['CPU Brand'] = df.Cpu.str.split(' ').apply(lambda x: x[0])\n",
    "df['CPU Frequency'] = df.Cpu.str.split(' ').apply(lambda x: x[-1])\n",
    "df = df.drop('Cpu', axis=1)\n",
    "df['CPU Frequency'] = df['CPU Frequency'].str[:-3]\n",
    "df['Ram'] = df['Ram'].str[:-2]\n",
    "df['Ram'] = df['Ram'].astype('int')\n",
    "df['CPU Frequency'] = df['CPU Frequency'].astype('float')\n",
    "df['Screen Width'] = df['Screen Width'].astype('int')\n",
    "df['Screen Height'] = df['Screen Height'].astype('int')\n",
    "df['Memory Amount'] = df.Memory.str.split(' ').apply(lambda x: x[0])\n",
    "df['Memory Type'] = df.Memory.str.split(' ').apply(lambda x: x[1])\n",
    "def turn_memory_into_MB(value):\n",
    "    if 'GB' in value:\n",
    "        return float(value[:value.find('GB')]) * 1000\n",
    "    elif 'TB' in value:\n",
    "        return float(value[:value.find('TB')]) * 1000000\n",
    "df['Memory Amount'] = df['Memory Amount'].apply(turn_memory_into_MB)\n",
    "df = df.drop('Memory', axis=1)\n",
    "df['Weight'] = df['Weight'].str[:-2]\n",
    "df['Weight'] = df['Weight'].astype('float')\n",
    "df['GPU Brand'] = df.Gpu.str.split(' ').apply(lambda x: x[0])\n",
    "df = df.drop('Gpu', axis=1)\n",
    "df = df.join(pd.get_dummies(df.OpSys))\n",
    "df = df.drop('OpSys',axis=1)\n",
    "cpu_catogories = pd.get_dummies(df['CPU Brand'])\n",
    "cpu_catogories.columns = [col + '_CPU' for col in cpu_catogories.columns]\n",
    "\n",
    "df = df.join(cpu_catogories)\n",
    "df = df.drop('CPU Brand', axis=1)\n",
    "gpu_catogories = pd.get_dummies(df['GPU Brand'])\n",
    "gpu_catogories.columns = [col + '_GPU' for col in gpu_catogories.columns]\n",
    "\n",
    "df = df.join(gpu_catogories)\n",
    "df = df.drop('GPU Brand', axis=1)\n",
    "target_correlations = df.corr()['Price_euros'].apply(abs).sort_values()\n",
    "selected_feature = target_correlations[-21:].index\n",
    "selected_feature = list(selected_feature)\n",
    "limited_df = df[selected_feature]\n",
    "\n",
    "#Train model\n",
    "from sklearn.preprocessing import StandardScaler\n",
    "from sklearn.model_selection import train_test_split\n",
    "from sklearn.ensemble import RandomForestRegressor\n",
    "\n",
    "X, y = limited_df.drop('Price_euros', axis=1), limited_df['Price_euros']\n",
    "\n",
    "X_train, X_test, y_train, y_test = train_test_split(X, y, test_size=0.15)\n",
    "\n",
    "scaler = StandardScaler()\n",
    "\n",
    "X_train_scaled = scaler.fit_transform(X_train)\n",
    "X_test_scaled = scaler.transform(X_test)\n",
    "forest = RandomForestRegressor()\n",
    "\n",
    "forest.fit(X_train_scaled, y_train)\n",
    "forest.score(X_test_scaled, y_test)\n",
    "y_pred = forest.predict(X_test_scaled)\n",
    "X_test.iloc[:]\n",
    "\n",
    "X_new_scaled = scaler.transform([X_test.iloc[0]])    "
   ]
  },
  {
   "attachments": {},
   "cell_type": "markdown",
   "metadata": {},
   "source": [
    "prediction/estimated value"
   ]
  },
  {
   "cell_type": "code",
   "execution_count": 3,
   "metadata": {},
   "outputs": [
    {
     "data": {
      "text/plain": [
       "array([956.243])"
      ]
     },
     "execution_count": 3,
     "metadata": {},
     "output_type": "execute_result"
    }
   ],
   "source": [
    "forest.predict(X_new_scaled)"
   ]
  },
  {
   "attachments": {},
   "cell_type": "markdown",
   "metadata": {},
   "source": [
    "Actuall value"
   ]
  },
  {
   "cell_type": "code",
   "execution_count": 4,
   "metadata": {},
   "outputs": [
    {
     "data": {
      "text/plain": [
       "1103.0"
      ]
     },
     "execution_count": 4,
     "metadata": {},
     "output_type": "execute_result"
    }
   ],
   "source": [
    "y_test.iloc[0]"
   ]
  }
 ],
 "metadata": {
  "kernelspec": {
   "display_name": "Python 3",
   "language": "python",
   "name": "python3"
  },
  "language_info": {
   "codemirror_mode": {
    "name": "ipython",
    "version": 3
   },
   "file_extension": ".py",
   "mimetype": "text/x-python",
   "name": "python",
   "nbconvert_exporter": "python",
   "pygments_lexer": "ipython3",
   "version": "3.10.4"
  },
  "orig_nbformat": 4
 },
 "nbformat": 4,
 "nbformat_minor": 2
}
